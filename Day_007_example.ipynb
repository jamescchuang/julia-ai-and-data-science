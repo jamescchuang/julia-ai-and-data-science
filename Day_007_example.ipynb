{
 "cells": [
  {
   "cell_type": "markdown",
   "metadata": {},
   "source": [
    "# Julia 條件與迴圈"
   ]
  },
  {
   "cell_type": "markdown",
   "metadata": {},
   "source": [
    "## 1. if-elseif-else 語法\n",
    "\n",
    "兩個條件判斷：\n",
    "```julia\n",
    "if 條件式\n",
    "    運算式\n",
    "else\n",
    "    運算式\n",
    "end\n",
    "```\n",
    "\n",
    "多個條件判斷：\n",
    "```julia\n",
    "if 條件式\n",
    "    運算式\n",
    "elseif 條件式\n",
    "    運算式\n",
    "else\n",
    "    運算式\n",
    "end\n",
    "```"
   ]
  },
  {
   "cell_type": "markdown",
   "metadata": {},
   "source": [
    "函式名稱可以用中文。"
   ]
  },
  {
   "cell_type": "code",
   "execution_count": 1,
   "metadata": {},
   "outputs": [
    {
     "data": {
      "text/plain": [
       "比大小 (generic function with 1 method)"
      ]
     },
     "execution_count": 1,
     "metadata": {},
     "output_type": "execute_result"
    }
   ],
   "source": [
    "function 比大小(x, y)\n",
    "    if x > y\n",
    "        println(\"x大\")\n",
    "    elseif x < y\n",
    "        println(\"y大\")\n",
    "    else\n",
    "        println(\"一樣大\")\n",
    "    end\n",
    "end"
   ]
  },
  {
   "cell_type": "code",
   "execution_count": 2,
   "metadata": {},
   "outputs": [
    {
     "name": "stdout",
     "output_type": "stream",
     "text": [
      "y大\n"
     ]
    }
   ],
   "source": [
    "比大小(1,2)"
   ]
  },
  {
   "cell_type": "markdown",
   "metadata": {},
   "source": [
    "Julia 的 if-elseif-else 判斷式中，比較特別的是，在 if / elseif / else 區塊中，本身就會 return value，這跟很多其他的程式語言不同。"
   ]
  },
  {
   "cell_type": "code",
   "execution_count": 3,
   "metadata": {},
   "outputs": [
    {
     "name": "stdout",
     "output_type": "stream",
     "text": [
      "x is positive!\n"
     ]
    }
   ],
   "source": [
    "function foo(x)\n",
    "    if x > 0\n",
    "        \"positive!\"\n",
    "    elseif x == 0\n",
    "        \"zero\"\n",
    "    else\n",
    "        \"negative...\"\n",
    "    end\n",
    "end\n",
    "\n",
    "println(\"x is \", foo(3))"
   ]
  },
  {
   "cell_type": "markdown",
   "metadata": {},
   "source": [
    "if-elseif-else 條件式結果必須為 Bool (true 或 false)。**在某些程式語言中常用 1 或 0 代表 true 或 false，但是在 Julia 中不允許，並會產生 error。**"
   ]
  },
  {
   "cell_type": "code",
   "execution_count": 4,
   "metadata": {},
   "outputs": [
    {
     "ename": "TypeError",
     "evalue": "TypeError: non-boolean (Int64) used in boolean context",
     "output_type": "error",
     "traceback": [
      "TypeError: non-boolean (Int64) used in boolean context",
      "",
      "Stacktrace:",
      " [1] top-level scope at In[4]:1"
     ]
    }
   ],
   "source": [
    "if 1\n",
    "    println(\"foo\")\n",
    "else\n",
    "    println(\"gee\")\n",
    "end"
   ]
  },
  {
   "cell_type": "markdown",
   "metadata": {},
   "source": [
    "### 三元運算子 Ternary Operator `?`\n",
    "\n",
    "三元運算子的運算式為 a ? b : c，其意義為：如果 a 條件式為 true 的話，就評估 b 運算式；若 a 為 false，則評估 c 運算式。\n",
    "\n",
    "要注意是是在使用三元運算子的時候，? 和 : 前後與運算式都要有空格，否則會產生 error。"
   ]
  },
  {
   "cell_type": "code",
   "execution_count": 5,
   "metadata": {},
   "outputs": [
    {
     "name": "stdout",
     "output_type": "stream",
     "text": [
      "x is less than y\n"
     ]
    }
   ],
   "source": [
    "x = 1\n",
    "y = 2\n",
    "\n",
    "println(x < y ? \"x is less than y\" : \"x is not less than y\")"
   ]
  },
  {
   "cell_type": "markdown",
   "metadata": {},
   "source": [
    "## 2. `while` 迴圈\n",
    "\n",
    "語法：\n",
    "```\n",
    "while 條件式\n",
    "    運算式\n",
    "end\n",
    "```\n",
    "\n",
    "跟 if-elseif-else 一樣，while 的條件式結果必須為 Bool (true 或 false)。"
   ]
  },
  {
   "cell_type": "code",
   "execution_count": 6,
   "metadata": {},
   "outputs": [
    {
     "name": "stdout",
     "output_type": "stream",
     "text": [
      "1\n",
      "2\n",
      "3\n",
      "4\n",
      "5\n"
     ]
    }
   ],
   "source": [
    "i = 1\n",
    "\n",
    "while i <= 5\n",
    "    println(i)\n",
    "    i += 1\n",
    "end"
   ]
  },
  {
   "cell_type": "markdown",
   "metadata": {},
   "source": [
    "### `break`\n",
    "\n",
    "在迴圈裡面，要中斷可使用 `break` 關鍵字。\n",
    "\n",
    "下面範例中也示範變數範圍 (scope)，在迴圈外的索引值 i 若要在迴圈內特別標明其 scope 的話，可使用 `global` 關鍵字。"
   ]
  },
  {
   "cell_type": "code",
   "execution_count": 7,
   "metadata": {},
   "outputs": [
    {
     "name": "stdout",
     "output_type": "stream",
     "text": [
      "global i is 1\n",
      "global i is 2\n",
      "global i is 3\n",
      "global i is 4\n",
      "global i is 5\n"
     ]
    }
   ],
   "source": [
    "i = 1\n",
    "\n",
    "while true\n",
    "    println(\"global i is $i\")\n",
    "    \n",
    "    if i >= 5\n",
    "        break\n",
    "    end\n",
    "\n",
    "    global i += 1\n",
    "end"
   ]
  },
  {
   "cell_type": "markdown",
   "metadata": {},
   "source": [
    "### `continue`\n",
    "\n",
    "`continue` 關鍵字在迴圈中，可以用來在某些條件情況下，直接執行下一個迴圈。\n",
    "\n",
    "下面範例是示範印出被 3 整除的數字，若未能被 3 整除則跳過繼續執行。"
   ]
  },
  {
   "cell_type": "code",
   "execution_count": 8,
   "metadata": {},
   "outputs": [
    {
     "name": "stdout",
     "output_type": "stream",
     "text": [
      "3\n",
      "6\n",
      "9\n"
     ]
    }
   ],
   "source": [
    "i = 0\n",
    "\n",
    "while i < 10\n",
    "    i += 1\n",
    "    \n",
    "    if i % 3 != 0\n",
    "        continue\n",
    "    end\n",
    "    \n",
    "    println(i)\n",
    "end"
   ]
  },
  {
   "cell_type": "markdown",
   "metadata": {},
   "source": [
    "## 3. `for` 迴圈\n",
    "\n",
    "`for` 迴圈的控制可以使用範圍 (range)，也可以使用集合 (例如向量或是元組Tuple)。"
   ]
  },
  {
   "cell_type": "code",
   "execution_count": 9,
   "metadata": {},
   "outputs": [
    {
     "name": "stdout",
     "output_type": "stream",
     "text": [
      "1\n",
      "2\n",
      "3\n",
      "4\n",
      "5\n"
     ]
    }
   ],
   "source": [
    "# 使用 range\n",
    "for i = 1:5\n",
    "    println(i)\n",
    "end"
   ]
  },
  {
   "cell_type": "markdown",
   "metadata": {},
   "source": [
    "使用 `in` 關鍵字也可以。"
   ]
  },
  {
   "cell_type": "code",
   "execution_count": 10,
   "metadata": {},
   "outputs": [
    {
     "name": "stdout",
     "output_type": "stream",
     "text": [
      "1\n",
      "2\n",
      "3\n",
      "4\n",
      "5\n"
     ]
    }
   ],
   "source": [
    "for i in 1:5\n",
    "    println(i)\n",
    "end"
   ]
  },
  {
   "cell_type": "markdown",
   "metadata": {},
   "source": [
    "使用字元 ∈ 也可以。輸入 `\\in[tab]` 即可產生 ∈ 字元。"
   ]
  },
  {
   "cell_type": "code",
   "execution_count": 11,
   "metadata": {},
   "outputs": [
    {
     "name": "stdout",
     "output_type": "stream",
     "text": [
      "1\n",
      "4\n",
      "0\n"
     ]
    }
   ],
   "source": [
    "# 使用向量\n",
    "for j ∈ [1, 4, 0]\n",
    "    println(j)\n",
    "end"
   ]
  },
  {
   "cell_type": "code",
   "execution_count": 12,
   "metadata": {},
   "outputs": [
    {
     "name": "stdout",
     "output_type": "stream",
     "text": [
      "1\n",
      "4\n",
      "0\n"
     ]
    }
   ],
   "source": [
    "# 使用元組 (Tuple)\n",
    "for j ∈ (1, 4, 0)\n",
    "    println(j)\n",
    "end"
   ]
  },
  {
   "cell_type": "markdown",
   "metadata": {},
   "source": [
    "### `break`\n",
    "\n",
    "與上面 `while` 的例子類似，`for` loop 中也可以使用中斷。"
   ]
  },
  {
   "cell_type": "code",
   "execution_count": 13,
   "metadata": {},
   "outputs": [
    {
     "name": "stdout",
     "output_type": "stream",
     "text": [
      "1\n",
      "2\n",
      "3\n",
      "4\n",
      "5\n"
     ]
    }
   ],
   "source": [
    "for i = 1:10\n",
    "    println(i)\n",
    "    \n",
    "    if i >= 5\n",
    "        break\n",
    "    end\n",
    "end"
   ]
  },
  {
   "cell_type": "markdown",
   "metadata": {},
   "source": [
    "### `continue`\n",
    "\n",
    "與上面 `while` 的例子類似，`for` loop 中也可以使用 `continue`。"
   ]
  },
  {
   "cell_type": "code",
   "execution_count": 14,
   "metadata": {},
   "outputs": [
    {
     "name": "stdout",
     "output_type": "stream",
     "text": [
      "3\n",
      "6\n",
      "9\n"
     ]
    }
   ],
   "source": [
    "j = 0\n",
    "\n",
    "for j = 1:10\n",
    "    if j % 3 != 0\n",
    "        continue\n",
    "    end\n",
    "    \n",
    "    println(j)\n",
    "end"
   ]
  },
  {
   "cell_type": "markdown",
   "metadata": {},
   "source": [
    "### 巢狀迴圈\n",
    "\n",
    "巢狀迴圈的寫法，可以用傳統的寫法: 2 個 for loop，或是更簡潔的寫法，在一個 for loop 中用 2 個 counter 去做控制。"
   ]
  },
  {
   "cell_type": "code",
   "execution_count": 15,
   "metadata": {},
   "outputs": [
    {
     "name": "stdout",
     "output_type": "stream",
     "text": [
      "1,3\n",
      "1,4\n",
      "2,3\n",
      "2,4\n",
      "3,3\n",
      "3,4\n",
      "4,3\n",
      "4,4\n",
      "5,3\n",
      "5,4\n"
     ]
    }
   ],
   "source": [
    "for i = 1:5\n",
    "    for j = 3:4 \n",
    "        println(i, \",\", j)\n",
    "    end\n",
    "end"
   ]
  },
  {
   "cell_type": "code",
   "execution_count": 16,
   "metadata": {},
   "outputs": [
    {
     "name": "stdout",
     "output_type": "stream",
     "text": [
      "1,3\n",
      "1,4\n",
      "2,3\n",
      "2,4\n",
      "3,3\n",
      "3,4\n",
      "4,3\n",
      "4,4\n",
      "5,3\n",
      "5,4\n"
     ]
    }
   ],
   "source": [
    "for i = 1:5, j = 3:4 \n",
    "    println(i, \",\", j)\n",
    "end"
   ]
  },
  {
   "cell_type": "markdown",
   "metadata": {},
   "source": [
    "## 4. 最小化求值 (Short-circuit evaluation)\n",
    "\n",
    "當有多個條件式，可以透過邏輯運算子達到最小化求值的結果。\n",
    "\n",
    "- && (AND): 兩條件式均為 true 的話就是 true，反之就是 false。\n",
    "- || (OR) : 兩條件式至少一個 true 的話就是 true，反之就是 false。\n",
    "- ! (反相)"
   ]
  },
  {
   "cell_type": "code",
   "execution_count": 17,
   "metadata": {},
   "outputs": [
    {
     "name": "stdout",
     "output_type": "stream",
     "text": [
      "true\n"
     ]
    }
   ],
   "source": [
    "i = 1; j = 2\n",
    "\n",
    "if i == 1 && j == 2\n",
    "    println(\"true\")\n",
    "else\n",
    "    println(\"false\")\n",
    "end"
   ]
  },
  {
   "cell_type": "code",
   "execution_count": 18,
   "metadata": {},
   "outputs": [
    {
     "name": "stdout",
     "output_type": "stream",
     "text": [
      "true\n"
     ]
    }
   ],
   "source": [
    "i = 1; j = 3\n",
    "\n",
    "if i == 1 || j == 2\n",
    "    println(\"true\")\n",
    "else\n",
    "    println(\"false\")\n",
    "end"
   ]
  },
  {
   "cell_type": "code",
   "execution_count": 19,
   "metadata": {},
   "outputs": [
    {
     "name": "stdout",
     "output_type": "stream",
     "text": [
      "false\n"
     ]
    }
   ],
   "source": [
    "j = 2\n",
    "\n",
    "if !(j == 2)\n",
    "    println(\"true\")\n",
    "else\n",
    "    println(\"false\")\n",
    "end"
   ]
  },
  {
   "cell_type": "code",
   "execution_count": null,
   "metadata": {},
   "outputs": [],
   "source": []
  }
 ],
 "metadata": {
  "@webio": {
   "lastCommId": null,
   "lastKernelId": null
  },
  "kernelspec": {
   "display_name": "Julia 1.2.0",
   "language": "julia",
   "name": "julia-1.2"
  },
  "language_info": {
   "file_extension": ".jl",
   "mimetype": "application/julia",
   "name": "julia",
   "version": "1.2.0"
  }
 },
 "nbformat": 4,
 "nbformat_minor": 4
}
